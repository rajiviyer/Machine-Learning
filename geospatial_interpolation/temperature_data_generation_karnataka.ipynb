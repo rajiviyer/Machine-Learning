{
 "cells": [
  {
   "cell_type": "code",
   "execution_count": 1,
   "metadata": {},
   "outputs": [],
   "source": [
    "import pandas as pd\n",
    "import numpy as np\n",
    "import requests"
   ]
  },
  {
   "cell_type": "code",
   "execution_count": 2,
   "metadata": {},
   "outputs": [
    {
     "name": "stdout",
     "output_type": "stream",
     "text": [
      "Failed to retrieve data for Bailhongal\n",
      "Failed to retrieve data for Yedrami\n",
      "Failed to retrieve data for Saligrama\n",
      "Failed to retrieve data for Devadurga\n",
      "Failed to retrieve data for Maski\n",
      "Failed to retrieve data for Sirawara\n",
      "Failed to retrieve data for Kapu\n",
      "Failed to retrieve data for Karwara\n",
      "Failed to retrieve data for Chadchana\n",
      "Failed to retrieve data for Babaleshwara\n",
      "Failed to retrieve data for Vadagera\n"
     ]
    }
   ],
   "source": [
    "API_KEY = \"<API_KEY>\"\n",
    "BASE_URL = \"http://api.openweathermap.org/data/2.5/weather\"\n",
    "\n",
    "talukas = pd.read_csv(\"data/karnataka_talukas.csv\")\n",
    "\n",
    "temperature_lst = []\n",
    "\n",
    "for taluka in list(talukas.taluka):\n",
    "    params = {\n",
    "        \"q\": f\"{taluka}, IN\",\n",
    "        \"appid\": API_KEY,\n",
    "        \"units\": \"metric\",  # Retrieve temperature in Celsius\n",
    "    }\n",
    "\n",
    "    response = requests.get(BASE_URL, params=params)\n",
    "\n",
    "    if response.status_code == 200:\n",
    "        data = response.json()\n",
    "        temperature = data[\"main\"][\"temp\"]\n",
    "        longitude = data[\"coord\"][\"lon\"]\n",
    "        latitude = data[\"coord\"][\"lat\"]\n",
    "        temperature_lst.append((taluka,temperature,longitude,latitude))\n",
    "    else:\n",
    "        print(f\"Failed to retrieve data for {taluka}\")\n",
    "\n",
    "temperature_data = pd.DataFrame(temperature_lst, columns=[\"taluka\",\"temperature\",\"longitude\",\"latitude\"])\n",
    "\n",
    "temperature_data.to_csv(\"data/karnataka_temperature.csv\", index = False)"
   ]
  },
  {
   "cell_type": "code",
   "execution_count": null,
   "metadata": {},
   "outputs": [],
   "source": []
  }
 ],
 "metadata": {
  "kernelspec": {
   "display_name": "data_analysis",
   "language": "python",
   "name": "python3"
  },
  "language_info": {
   "codemirror_mode": {
    "name": "ipython",
    "version": 3
   },
   "file_extension": ".py",
   "mimetype": "text/x-python",
   "name": "python",
   "nbconvert_exporter": "python",
   "pygments_lexer": "ipython3",
   "version": "3.10.8"
  },
  "orig_nbformat": 4
 },
 "nbformat": 4,
 "nbformat_minor": 2
}
