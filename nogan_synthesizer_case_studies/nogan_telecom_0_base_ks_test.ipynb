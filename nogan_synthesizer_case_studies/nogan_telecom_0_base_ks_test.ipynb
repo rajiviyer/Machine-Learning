{
 "cells": [
  {
   "cell_type": "code",
   "execution_count": 1,
   "metadata": {},
   "outputs": [],
   "source": [
    "import pandas as pd\n",
    "import numpy as np\n",
    "import nogan_synthesizer as ns\n",
    "from nogan_synthesizer import NoGANSynth\n",
    "from nogan_synthesizer.preprocessing import wrap_category_columns"
   ]
  },
  {
   "cell_type": "code",
   "execution_count": 2,
   "metadata": {},
   "outputs": [
    {
     "name": "stdout",
     "output_type": "stream",
     "text": [
      "Numpy Version: 1.26.0\n",
      "Pandas Version: 2.0.3\n",
      "NoGAN Synthesizer Version: 0.1.5\n"
     ]
    }
   ],
   "source": [
    "print(f\"Numpy Version: {np.__version__}\")\n",
    "print(f\"Pandas Version: {pd.__version__}\")\n",
    "print(f\"NoGAN Synthesizer Version: {ns.__version__}\")"
   ]
  },
  {
   "cell_type": "code",
   "execution_count": 3,
   "metadata": {},
   "outputs": [],
   "source": [
    "pd.core.common.random_state(None)\n",
    "seed = 42"
   ]
  },
  {
   "cell_type": "code",
   "execution_count": 4,
   "metadata": {},
   "outputs": [
    {
     "data": {
      "text/html": [
       "<div>\n",
       "<style scoped>\n",
       "    .dataframe tbody tr th:only-of-type {\n",
       "        vertical-align: middle;\n",
       "    }\n",
       "\n",
       "    .dataframe tbody tr th {\n",
       "        vertical-align: top;\n",
       "    }\n",
       "\n",
       "    .dataframe thead th {\n",
       "        text-align: right;\n",
       "    }\n",
       "</style>\n",
       "<table border=\"1\" class=\"dataframe\">\n",
       "  <thead>\n",
       "    <tr style=\"text-align: right;\">\n",
       "      <th></th>\n",
       "      <th>customerID</th>\n",
       "      <th>gender</th>\n",
       "      <th>SeniorCitizen</th>\n",
       "      <th>Partner</th>\n",
       "      <th>Dependents</th>\n",
       "      <th>tenure</th>\n",
       "      <th>PhoneService</th>\n",
       "      <th>MultipleLines</th>\n",
       "      <th>InternetService</th>\n",
       "      <th>OnlineSecurity</th>\n",
       "      <th>...</th>\n",
       "      <th>DeviceProtection</th>\n",
       "      <th>TechSupport</th>\n",
       "      <th>StreamingTV</th>\n",
       "      <th>StreamingMovies</th>\n",
       "      <th>Contract</th>\n",
       "      <th>PaperlessBilling</th>\n",
       "      <th>PaymentMethod</th>\n",
       "      <th>MonthlyCharges</th>\n",
       "      <th>TotalCharges</th>\n",
       "      <th>Churn</th>\n",
       "    </tr>\n",
       "  </thead>\n",
       "  <tbody>\n",
       "    <tr>\n",
       "      <th>0</th>\n",
       "      <td>7590-VHVEG</td>\n",
       "      <td>Female</td>\n",
       "      <td>0</td>\n",
       "      <td>Yes</td>\n",
       "      <td>No</td>\n",
       "      <td>1</td>\n",
       "      <td>No</td>\n",
       "      <td>No phone service</td>\n",
       "      <td>DSL</td>\n",
       "      <td>No</td>\n",
       "      <td>...</td>\n",
       "      <td>No</td>\n",
       "      <td>No</td>\n",
       "      <td>No</td>\n",
       "      <td>No</td>\n",
       "      <td>Month-to-month</td>\n",
       "      <td>Yes</td>\n",
       "      <td>Electronic check</td>\n",
       "      <td>29.85</td>\n",
       "      <td>29.85</td>\n",
       "      <td>No</td>\n",
       "    </tr>\n",
       "    <tr>\n",
       "      <th>1</th>\n",
       "      <td>5575-GNVDE</td>\n",
       "      <td>Male</td>\n",
       "      <td>0</td>\n",
       "      <td>No</td>\n",
       "      <td>No</td>\n",
       "      <td>34</td>\n",
       "      <td>Yes</td>\n",
       "      <td>No</td>\n",
       "      <td>DSL</td>\n",
       "      <td>Yes</td>\n",
       "      <td>...</td>\n",
       "      <td>Yes</td>\n",
       "      <td>No</td>\n",
       "      <td>No</td>\n",
       "      <td>No</td>\n",
       "      <td>One year</td>\n",
       "      <td>No</td>\n",
       "      <td>Mailed check</td>\n",
       "      <td>56.95</td>\n",
       "      <td>1889.50</td>\n",
       "      <td>No</td>\n",
       "    </tr>\n",
       "    <tr>\n",
       "      <th>2</th>\n",
       "      <td>3668-QPYBK</td>\n",
       "      <td>Male</td>\n",
       "      <td>0</td>\n",
       "      <td>No</td>\n",
       "      <td>No</td>\n",
       "      <td>2</td>\n",
       "      <td>Yes</td>\n",
       "      <td>No</td>\n",
       "      <td>DSL</td>\n",
       "      <td>Yes</td>\n",
       "      <td>...</td>\n",
       "      <td>No</td>\n",
       "      <td>No</td>\n",
       "      <td>No</td>\n",
       "      <td>No</td>\n",
       "      <td>Month-to-month</td>\n",
       "      <td>Yes</td>\n",
       "      <td>Mailed check</td>\n",
       "      <td>53.85</td>\n",
       "      <td>108.15</td>\n",
       "      <td>Yes</td>\n",
       "    </tr>\n",
       "    <tr>\n",
       "      <th>3</th>\n",
       "      <td>7795-CFOCW</td>\n",
       "      <td>Male</td>\n",
       "      <td>0</td>\n",
       "      <td>No</td>\n",
       "      <td>No</td>\n",
       "      <td>45</td>\n",
       "      <td>No</td>\n",
       "      <td>No phone service</td>\n",
       "      <td>DSL</td>\n",
       "      <td>Yes</td>\n",
       "      <td>...</td>\n",
       "      <td>Yes</td>\n",
       "      <td>Yes</td>\n",
       "      <td>No</td>\n",
       "      <td>No</td>\n",
       "      <td>One year</td>\n",
       "      <td>No</td>\n",
       "      <td>Bank transfer (automatic)</td>\n",
       "      <td>42.30</td>\n",
       "      <td>1840.75</td>\n",
       "      <td>No</td>\n",
       "    </tr>\n",
       "    <tr>\n",
       "      <th>4</th>\n",
       "      <td>9237-HQITU</td>\n",
       "      <td>Female</td>\n",
       "      <td>0</td>\n",
       "      <td>No</td>\n",
       "      <td>No</td>\n",
       "      <td>2</td>\n",
       "      <td>Yes</td>\n",
       "      <td>No</td>\n",
       "      <td>Fiber optic</td>\n",
       "      <td>No</td>\n",
       "      <td>...</td>\n",
       "      <td>No</td>\n",
       "      <td>No</td>\n",
       "      <td>No</td>\n",
       "      <td>No</td>\n",
       "      <td>Month-to-month</td>\n",
       "      <td>Yes</td>\n",
       "      <td>Electronic check</td>\n",
       "      <td>70.70</td>\n",
       "      <td>151.65</td>\n",
       "      <td>Yes</td>\n",
       "    </tr>\n",
       "  </tbody>\n",
       "</table>\n",
       "<p>5 rows × 21 columns</p>\n",
       "</div>"
      ],
      "text/plain": [
       "   customerID  gender  SeniorCitizen Partner Dependents  tenure PhoneService  \\\n",
       "0  7590-VHVEG  Female              0     Yes         No       1           No   \n",
       "1  5575-GNVDE    Male              0      No         No      34          Yes   \n",
       "2  3668-QPYBK    Male              0      No         No       2          Yes   \n",
       "3  7795-CFOCW    Male              0      No         No      45           No   \n",
       "4  9237-HQITU  Female              0      No         No       2          Yes   \n",
       "\n",
       "      MultipleLines InternetService OnlineSecurity  ... DeviceProtection  \\\n",
       "0  No phone service             DSL             No  ...               No   \n",
       "1                No             DSL            Yes  ...              Yes   \n",
       "2                No             DSL            Yes  ...               No   \n",
       "3  No phone service             DSL            Yes  ...              Yes   \n",
       "4                No     Fiber optic             No  ...               No   \n",
       "\n",
       "  TechSupport StreamingTV StreamingMovies        Contract PaperlessBilling  \\\n",
       "0          No          No              No  Month-to-month              Yes   \n",
       "1          No          No              No        One year               No   \n",
       "2          No          No              No  Month-to-month              Yes   \n",
       "3         Yes          No              No        One year               No   \n",
       "4          No          No              No  Month-to-month              Yes   \n",
       "\n",
       "               PaymentMethod MonthlyCharges  TotalCharges  Churn  \n",
       "0           Electronic check          29.85         29.85     No  \n",
       "1               Mailed check          56.95       1889.50     No  \n",
       "2               Mailed check          53.85        108.15    Yes  \n",
       "3  Bank transfer (automatic)          42.30       1840.75     No  \n",
       "4           Electronic check          70.70        151.65    Yes  \n",
       "\n",
       "[5 rows x 21 columns]"
      ]
     },
     "execution_count": 4,
     "metadata": {},
     "output_type": "execute_result"
    }
   ],
   "source": [
    "na_values_list = [' ', 'NA', 'NaN', 'N/A']\n",
    "data = pd.read_csv(\"https://raw.githubusercontent.com/VincentGranville/Main/main/Telecom.csv\", na_values = na_values_list)\n",
    "data.head()"
   ]
  },
  {
   "cell_type": "code",
   "execution_count": 5,
   "metadata": {},
   "outputs": [
    {
     "data": {
      "text/plain": [
       "(7043, 21)"
      ]
     },
     "execution_count": 5,
     "metadata": {},
     "output_type": "execute_result"
    }
   ],
   "source": [
    "data.shape"
   ]
  },
  {
   "cell_type": "code",
   "execution_count": 6,
   "metadata": {},
   "outputs": [
    {
     "data": {
      "text/plain": [
       "customerID          False\n",
       "gender              False\n",
       "SeniorCitizen       False\n",
       "Partner             False\n",
       "Dependents          False\n",
       "tenure              False\n",
       "PhoneService        False\n",
       "MultipleLines       False\n",
       "InternetService     False\n",
       "OnlineSecurity      False\n",
       "OnlineBackup        False\n",
       "DeviceProtection    False\n",
       "TechSupport         False\n",
       "StreamingTV         False\n",
       "StreamingMovies     False\n",
       "Contract            False\n",
       "PaperlessBilling    False\n",
       "PaymentMethod       False\n",
       "MonthlyCharges      False\n",
       "TotalCharges         True\n",
       "Churn               False\n",
       "dtype: bool"
      ]
     },
     "execution_count": 6,
     "metadata": {},
     "output_type": "execute_result"
    }
   ],
   "source": [
    "nan_rows = data.isna().any(axis=0)\n",
    "nan_rows"
   ]
  },
  {
   "cell_type": "code",
   "execution_count": 7,
   "metadata": {},
   "outputs": [
    {
     "name": "stdout",
     "output_type": "stream",
     "text": [
      "<class 'pandas.core.frame.DataFrame'>\n",
      "Index: 7032 entries, 0 to 7042\n",
      "Data columns (total 21 columns):\n",
      " #   Column            Non-Null Count  Dtype  \n",
      "---  ------            --------------  -----  \n",
      " 0   customerID        7032 non-null   object \n",
      " 1   gender            7032 non-null   object \n",
      " 2   SeniorCitizen     7032 non-null   int64  \n",
      " 3   Partner           7032 non-null   object \n",
      " 4   Dependents        7032 non-null   object \n",
      " 5   tenure            7032 non-null   int64  \n",
      " 6   PhoneService      7032 non-null   object \n",
      " 7   MultipleLines     7032 non-null   object \n",
      " 8   InternetService   7032 non-null   object \n",
      " 9   OnlineSecurity    7032 non-null   object \n",
      " 10  OnlineBackup      7032 non-null   object \n",
      " 11  DeviceProtection  7032 non-null   object \n",
      " 12  TechSupport       7032 non-null   object \n",
      " 13  StreamingTV       7032 non-null   object \n",
      " 14  StreamingMovies   7032 non-null   object \n",
      " 15  Contract          7032 non-null   object \n",
      " 16  PaperlessBilling  7032 non-null   object \n",
      " 17  PaymentMethod     7032 non-null   object \n",
      " 18  MonthlyCharges    7032 non-null   float64\n",
      " 19  TotalCharges      7032 non-null   float64\n",
      " 20  Churn             7032 non-null   object \n",
      "dtypes: float64(2), int64(2), object(17)\n",
      "memory usage: 1.2+ MB\n",
      "None\n"
     ]
    }
   ],
   "source": [
    "data = data.dropna()\n",
    "print(data.info())"
   ]
  },
  {
   "cell_type": "code",
   "execution_count": 8,
   "metadata": {},
   "outputs": [
    {
     "name": "stdout",
     "output_type": "stream",
     "text": [
      "['customerID', 'gender', 'SeniorCitizen', 'Partner', 'Dependents', 'tenure', 'PhoneService', 'MultipleLines', 'InternetService', 'OnlineSecurity', 'OnlineBackup', 'DeviceProtection', 'TechSupport', 'StreamingTV', 'StreamingMovies', 'Contract', 'PaperlessBilling', 'PaymentMethod', 'MonthlyCharges', 'TotalCharges', 'Churn']\n"
     ]
    }
   ],
   "source": [
    "cat_cols = list(data.columns)\n",
    "print(cat_cols)"
   ]
  },
  {
   "cell_type": "code",
   "execution_count": 9,
   "metadata": {},
   "outputs": [
    {
     "name": "stdout",
     "output_type": "stream",
     "text": [
      "Data Shape: (7032, 21)\n",
      "Training Shape: (3516, 21)\n",
      "Validation Shape: (3516, 21)\n"
     ]
    }
   ],
   "source": [
    "training_data  = data.sample(frac=0.5)\n",
    "validation_data = data.drop(training_data.index)\n",
    "\n",
    "print(f\"Data Shape: {data.shape}\\nTraining Shape: {training_data.shape}\\nValidation Shape: {validation_data.shape}\")     "
   ]
  },
  {
   "cell_type": "code",
   "execution_count": 10,
   "metadata": {},
   "outputs": [
    {
     "name": "stdout",
     "output_type": "stream",
     "text": [
      "Data Shape: (7032, 21)\n",
      " Preprocessed Training Shape: (3516, 1)\n",
      " Preprocessed Validation Shape: (3516, 1)\n"
     ]
    }
   ],
   "source": [
    "wrapped_train_data, idx_to_key_train, key_to_idx_train = \\\n",
    "                    wrap_category_columns(training_data,cat_cols)\n",
    "                    \n",
    "wrapped_val_data, idx_to_key_val, key_to_idx_val = \\\n",
    "                    wrap_category_columns(validation_data,cat_cols)     \n",
    "\n",
    "print(f\"Data Shape: {data.shape}\\n Preprocessed Training Shape: {wrapped_train_data.shape}\\n Preprocessed Validation Shape: {wrapped_val_data.shape}\")  "
   ]
  },
  {
   "cell_type": "code",
   "execution_count": 11,
   "metadata": {},
   "outputs": [],
   "source": [
    "features = ['cat_label']\n",
    "n_features = len(features)\n",
    "eps = 0.0000000001 \n",
    "\n",
    "def string_to_numbers(string):\n",
    "\n",
    "    string = string.replace(\"[\", \"\")\n",
    "    string = string.replace(\"]\", \"\")\n",
    "    string = string.replace(\" \", \"\")\n",
    "    arr = string.split(',')\n",
    "    arr = [eval(i) for i in arr]\n",
    "    return(arr)\n",
    "\n",
    "def compute_ecdf(dataframe, n_nodes, adjusted):\n",
    "\n",
    "    # Monte-Carlo: sampling n_nodes locations (combos) for ecdf\n",
    "    #    - adjusted correct for sparsity in high ecdf, but is sparse in low ecdf  \n",
    "    #    - non-adjusted is the other way around\n",
    "    # for faster computation: pre-compute percentiles for each feature\n",
    "    # foe faster computation: optimize the computation of n_nodes SQL-like queries\n",
    "\n",
    "    ecdf = {} \n",
    "\n",
    "    for point in range(n_nodes):\n",
    "\n",
    "        if point % 100 == 0:\n",
    "            print(\"sampling ecdf, location = %4d (adjusted = %s):\" % (point, adjusted))\n",
    "        combo = np.random.uniform(0, 1, n_features)\n",
    "        if adjusted:\n",
    "            combo = combo**(1/n_features)\n",
    "        z = []   # multivariate quantile\n",
    "        query_string = \"\"\n",
    "        for k in range(n_features):\n",
    "            label = features[k]\n",
    "            dr = dataframe[label]\n",
    "            percentile = combo[k] \n",
    "            z.append(eps + np.quantile(dr, percentile))\n",
    "            if k == 0:\n",
    "                query_string += \"{} <= {}\".format(label, z[k])\n",
    "            else: \n",
    "                query_string += \" and {} <= {}\".format(label, z[k])\n",
    "\n",
    "        countifs = len(dataframe.query(query_string))\n",
    "        if countifs > 0: \n",
    "            ecdf[str(z)] = countifs / len(dataframe)\n",
    "  \n",
    "    ecdf = dict(sorted(ecdf.items(), key=lambda item: item[1]))\n",
    "\n",
    "    # extract table with locations (ecdf argument) and ecdf values:\n",
    "    #     - cosmetic change to return output easier to handle than ecdf \n",
    "\n",
    "    idx = 0\n",
    "    arr_location = []\n",
    "    arr_value = []\n",
    "    for location in ecdf:\n",
    "        value = ecdf[location]\n",
    "        location = string_to_numbers(location)\n",
    "        arr_location.append(location)\n",
    "        arr_value.append(value)\n",
    "        idx += 1\n",
    "\n",
    "    print(\"\\n\")\n",
    "    return(arr_location, arr_value)\n",
    "\n",
    "def ks_delta(SyntheticData, locations, ecdf_ValidationSet):\n",
    "\n",
    "    # SyntheticData is a dataframe\n",
    "    # locations are the points in the feature space where ecdf is computed\n",
    "    # for the validation set, ecdf values are stored in ecdf_ValidationSet\n",
    "    # here we compute ecdf for the synthetic data, at the specified locations\n",
    "    # output ks_max in [0, 1] with 0 = best, 1 = worst\n",
    "\n",
    "    ks_max = 0\n",
    "    ecdf_real = []\n",
    "    ecdf_synth = []\n",
    "    for idx in range(len(locations)):\n",
    "        location = locations[idx]\n",
    "        value = ecdf_ValidationSet[idx]\n",
    "        query_string = \"\"\n",
    "        for k in range(n_features):\n",
    "            label = features[k]\n",
    "            if k == 0:\n",
    "                query_string += \"{} <= {}\".format(label, location[k])\n",
    "            else: \n",
    "                query_string += \" and {} <= {}\".format(label, location[k])\n",
    "        countifs = len(SyntheticData.query(query_string))\n",
    "        synth_value = countifs / len(SyntheticData)\n",
    "        ks = abs(value - synth_value)\n",
    "        ecdf_real.append(value)\n",
    "        ecdf_synth.append(synth_value)\n",
    "        if ks > ks_max:\n",
    "            ks_max = ks\n",
    "        # print(\"location ID: %6d | ecdf_real: %6.4f | ecdf_synth: %6.4f\"\n",
    "        #             %(idx, value, synth_value))\n",
    "    return(ks_max, ecdf_real, ecdf_synth)\n",
    "\n"
   ]
  },
  {
   "cell_type": "code",
   "execution_count": 12,
   "metadata": {},
   "outputs": [
    {
     "name": "stdout",
     "output_type": "stream",
     "text": [
      "sampling ecdf, location =    0 (adjusted = True):\n",
      "sampling ecdf, location =  100 (adjusted = True):\n",
      "sampling ecdf, location =  200 (adjusted = True):\n",
      "sampling ecdf, location =  300 (adjusted = True):\n",
      "sampling ecdf, location =  400 (adjusted = True):\n",
      "sampling ecdf, location =  500 (adjusted = True):\n",
      "sampling ecdf, location =  600 (adjusted = True):\n",
      "sampling ecdf, location =  700 (adjusted = True):\n",
      "sampling ecdf, location =  800 (adjusted = True):\n",
      "sampling ecdf, location =  900 (adjusted = True):\n",
      "\n",
      "\n",
      "Base ECDF Kolmogorof-Smirnov dist. (train. vs valid.): 0.0000\n"
     ]
    }
   ],
   "source": [
    "n_nodes = 1000   # number of random locations in feature space, where ecdf is computed\n",
    "reseed = False\n",
    "if reseed:\n",
    "   seed = 555\n",
    "   np.random.seed(seed) \n",
    "\n",
    "arr_location, arr_value = compute_ecdf(wrapped_val_data, n_nodes, adjusted = True)\n",
    "\n",
    "base_ks_max, _, _ = ks_delta(wrapped_train_data, arr_location, arr_value)\t\n",
    "print(\"Base ECDF Kolmogorof-Smirnov dist. (train. vs valid.): %6.4f\" %(base_ks_max))"
   ]
  }
 ],
 "metadata": {
  "kernelspec": {
   "display_name": "data_analysis",
   "language": "python",
   "name": "python3"
  },
  "language_info": {
   "codemirror_mode": {
    "name": "ipython",
    "version": 3
   },
   "file_extension": ".py",
   "mimetype": "text/x-python",
   "name": "python",
   "nbconvert_exporter": "python",
   "pygments_lexer": "ipython3",
   "version": "3.10.8"
  }
 },
 "nbformat": 4,
 "nbformat_minor": 2
}
